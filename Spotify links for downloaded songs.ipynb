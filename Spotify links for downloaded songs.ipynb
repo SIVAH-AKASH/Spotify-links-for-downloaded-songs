{
 "cells": [
  {
   "cell_type": "markdown",
   "id": "740efd91-0c10-4381-87e2-88650dfe5673",
   "metadata": {},
   "source": [
    "# **List of title and artist names from songs located on a folder**"
   ]
  },
  {
   "cell_type": "code",
   "execution_count": null,
   "id": "d0a2c53e-b45e-4253-bc95-08c5b1196310",
   "metadata": {},
   "outputs": [],
   "source": [
    "#Enter music_folder_path below\n",
    "\n",
    "import os\n",
    "from tinytag import TinyTag\n",
    "from os import walk\n",
    "\n",
    "#Initializing variables\n",
    "music_folder_path = \"\" #Should only include music files (Remove other files and hidden \"desktop.ini\" file if present)\n",
    "file_path_list = []\n",
    "track_list = []\n",
    "artist_list = []\n",
    "\n",
    "#Pulls list of file names\n",
    "for dirpath, dirnames, filenames in os.walk(music_folder_path):\n",
    "    for filename in filenames:\n",
    "        file_path_list.append(os.path.join(dirpath, filename))\n",
    "\n",
    "#Pulls list of title and artist names from file names\n",
    "for x in range(0, len(file_path_list)): \n",
    "    p = TinyTag.get(file_path_list[x]).title\n",
    "    q = TinyTag.get(file_path_list[x]).artist\n",
    "    track_list.append(p)\n",
    "    artist_list.append(q)\n",
    "\n",
    "#Printing some data for information\n",
    "print('\\033[1m' + \"Blank titles - \" + '\\033[0m', len([x for x in track_list if x == None]))\n",
    "print('\\033[1m' + \"Blank artists - \" + '\\033[0m', len([x for x in artist_list if x == None]))\n",
    "\n",
    "#Removing songs from list which have empty titles or artists\n",
    "empty_track_list = ([i for i,x in enumerate(track_list) if x == None])\n",
    "empty_track_list.sort(reverse=True)\n",
    "for index in empty_track_list:\n",
    "    del track_list[index]\n",
    "\n",
    "for index in empty_track_list:\n",
    "    del artist_list[index]\n",
    "\n",
    "\n",
    "empty_artist_list = ([i for i,x in enumerate(artist_list) if x == None])\n",
    "empty_artist_list.sort(reverse=True)\n",
    "for index in empty_artist_list:\n",
    "    del artist_list[index]\n",
    "\n",
    "for index in empty_artist_list:\n",
    "    del track_list[index]\n",
    "\n",
    "#Printing some data for information\n",
    "print('\\033[1m' + \"First five titles - \" + '\\033[0m', track_list[0:5])\n",
    "print('\\033[1m' + \"First five artists - \" + '\\033[0m', artist_list[0:5])"
   ]
  },
  {
   "cell_type": "raw",
   "id": "c8b60bd1-254d-432c-9a9e-ff50c7dc7436",
   "metadata": {},
   "source": []
  },
  {
   "cell_type": "markdown",
   "id": "7b4487ca-ebed-4293-8d51-afa570484604",
   "metadata": {},
   "source": [
    "# **List of Spotify links from title and artist names**"
   ]
  },
  {
   "cell_type": "code",
   "execution_count": null,
   "id": "4a725ea7-7588-49de-8557-86db3290ee79",
   "metadata": {},
   "outputs": [],
   "source": [
    "#Enter CLIENT_ID and CLIENT_SECRET below\n",
    "\n",
    "import requests\n",
    "\n",
    "#Initializing API\n",
    "CLIENT_ID = \"\"\n",
    "CLIENT_SECRET = \"\"\n",
    "\n",
    "auth_response = requests.post('https://accounts.spotify.com/api/token', {\n",
    "    'grant_type': 'client_credentials',\n",
    "    'client_id': CLIENT_ID,\n",
    "    'client_secret': CLIENT_SECRET,\n",
    "})\n",
    "\n",
    "access_token = auth_response.json()['access_token']\n",
    "\n",
    "\n",
    "\n",
    "#Pulls list of Spotify links from title and artist names\n",
    "track_link = []\n",
    "\n",
    "for x in range(0, len(file_path_list)):\n",
    "    track_info = requests.get(\"https://api.spotify.com/v1/search?query=\" + track_list[x] + \"%2520artist%3A\" + artist_list[x] + \"&type=track&market=us&limit=1&offset=0\", \n",
    "                 headers={'Authorization': 'Bearer {token}'.format(token=access_token)}).json()\n",
    "    track_link.append(track_info[\"tracks\"][\"items\"][0][\"external_urls\"][\"spotify\"])\n",
    "\n",
    "\n",
    "\n",
    "\n",
    "#Export Spotify links to Text file\n",
    "with open('Spotify Links.txt', 'w+') as f:\n",
    "    \n",
    "    # write elements of list\n",
    "    for items in track_link:\n",
    "        f.write('%s\\n' %items)\n",
    "    \n",
    "    print(\"File written successfully\")\n",
    "\n",
    "f.close()\n",
    "\n",
    "#Paste the links from the Text file into a Spotify playlist"
   ]
  }
 ],
 "metadata": {
  "kernelspec": {
   "display_name": "Python 3 (ipykernel)",
   "language": "python",
   "name": "python3"
  },
  "language_info": {
   "codemirror_mode": {
    "name": "ipython",
    "version": 3
   },
   "file_extension": ".py",
   "mimetype": "text/x-python",
   "name": "python",
   "nbconvert_exporter": "python",
   "pygments_lexer": "ipython3",
   "version": "3.13.1"
  }
 },
 "nbformat": 4,
 "nbformat_minor": 5
}
